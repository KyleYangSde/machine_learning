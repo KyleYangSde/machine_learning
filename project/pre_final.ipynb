{
 "cells": [
  {
   "cell_type": "code",
   "execution_count": 1,
   "metadata": {
    "collapsed": true,
    "pycharm": {
     "is_executing": false
    }
   },
   "outputs": [],
   "source": [
    "from dataset_evauation import project_data\n",
    "import os\n",
    "import numpy as np\n",
    "from sklearn.preprocessing import MinMaxScaler\n",
    "from sklearn.svm import SVC\n",
    "from sklearn.model_selection import GridSearchCV\n",
    "from sklearn.neighbors import KNeighborsClassifier\n",
    "from sklearn.tree import DecisionTreeClassifier\n"
   ]
  },
  {
   "cell_type": "code",
   "execution_count": 2,
   "metadata": {
    "pycharm": {
     "is_executing": false,
     "name": "#%%\n"
    }
   },
   "outputs": [],
   "source": [
    "root_path = 'D:\\PYwork\\9417pro\\StudentLife_Dataset'\n",
    "#root_path = os.path.join(os.path.dirname(__file__), 'StudentLife_Dataset')\n",
    "data = project_data(root_path=root_path)\n"
   ]
  },
  {
   "cell_type": "code",
   "execution_count": 3,
   "metadata": {
    "pycharm": {
     "is_executing": false,
     "name": "#%%\n"
    }
   },
   "outputs": [],
   "source": [
    "pre_studnet = data.pre_student\n",
    "post_student = data.post_student\n"
   ]
  },
  {
   "cell_type": "code",
   "execution_count": 4,
   "metadata": {
    "pycharm": {
     "is_executing": false,
     "name": "#%%\n"
    }
   },
   "outputs": [
    {
     "name": "stdout",
     "output_type": "stream",
     "text": [
      "defaultdict(<class 'int'>, {'u00': 47.0, 'u01': 45.0, 'u02': 46.0, 'u03': 34.0, 'u04': 27.0, 'u05': 48.0, 'u07': 49.0, 'u08': 37.0, 'u09': 46.0, 'u10': 39.0, 'u12': 49.0, 'u13': 44.0, 'u14': 52.0, 'u15': 43.0, 'u16': 42.0, 'u17': 37.0, 'u18': 37.0, 'u19': 42.0, 'u20': 45.0, 'u22': 46.0, 'u23': 35.0, 'u24': 41.0, 'u27': 31.0, 'u30': 52.0, 'u31': 16.0, 'u32': 54.0, 'u33': 31.0, 'u34': 49.0, 'u35': 48.0, 'u36': 46.0, 'u39': 15.0, 'u42': 45.0, 'u43': 47.0, 'u44': 48.0, 'u45': 48.0, 'u46': 42.0, 'u47': 47.0, 'u49': 51.0, 'u50': 48.0, 'u51': 39.0, 'u52': 34.0, 'u53': 50.0, 'u56': 46.0, 'u57': 50.0, 'u58': 51.0, 'u59': 43.0})\n",
      "defaultdict(<class 'int'>, {'u00': 45.0, 'u01': 46.0, 'u02': 44.0, 'u03': 31.0, 'u04': 33.0, 'u05': 50.0, 'u07': 47.0, 'u09': 47.0, 'u10': 39.0, 'u14': 53.0, 'u15': 48.0, 'u16': 41.0, 'u17': 38.0, 'u19': 42.0, 'u20': 45.0, 'u23': 42.0, 'u24': 43.0, 'u27': 31.0, 'u30': 56.0, 'u31': 36.0, 'u32': 56.0, 'u33': 28.0, 'u34': 23.0, 'u35': 44.0, 'u36': 46.0, 'u42': 16.0, 'u43': 42.0, 'u44': 41.0, 'u45': 49.0, 'u46': 44.0, 'u47': 52.0, 'u49': 55.0, 'u51': 48.0, 'u52': 37.0, 'u53': 49.0, 'u56': 48.0, 'u59': 50.0})\n"
     ]
    }
   ],
   "source": [
    "pre_flour, post_flour = data.FlourishingScale()\n",
    "print(pre_flour)\n",
    "print(post_flour)\n"
   ]
  },
  {
   "cell_type": "code",
   "execution_count": 5,
   "metadata": {
    "pycharm": {
     "is_executing": false,
     "name": "#%%\n"
    }
   },
   "outputs": [
    {
     "name": "stdout",
     "output_type": "stream",
     "text": [
      "defaultdict(<class 'int'>, {'u00': 32.0, 'u01': 30.0, 'u02': 23.0, 'u03': 30.0, 'u04': 27.0, 'u05': 32.0, 'u07': 30.0, 'u08': 30.0, 'u09': 28.0, 'u10': 33.0, 'u12': 42.0, 'u13': 13.0, 'u14': 40.0, 'u15': 30.0, 'u16': 18.0, 'u17': 31.0, 'u18': 16.0, 'u19': 31.0, 'u20': 29.0, 'u22': 26.0, 'u23': 29.0, 'u24': 26.0, 'u27': 23.0, 'u30': 34.0, 'u31': 31.0, 'u32': 29.0, 'u33': 19.0, 'u34': 28.0, 'u35': 27.0, 'u36': 32.0, 'u39': 20.0, 'u42': 24.0, 'u43': 31.0, 'u44': 32.0, 'u45': 27.0, 'u46': 34.0, 'u47': 34.0, 'u49': 35.0, 'u50': 25.0, 'u51': 24.0, 'u52': 40.0, 'u53': 28.0, 'u56': 22.0, 'u57': 35.0, 'u58': 28.0, 'u59': 34.0})\n",
      "defaultdict(<class 'int'>, {'u00': 33.0, 'u01': 19.0, 'u02': 15.0, 'u03': 27.0, 'u04': 14.0, 'u05': 27.0, 'u07': 21.0, 'u08': 26.0, 'u09': 11.0, 'u10': 20.0, 'u12': 18.0, 'u13': 21.0, 'u14': 43.0, 'u15': 25.0, 'u16': 20.0, 'u17': 17.0, 'u18': 28.0, 'u19': 22.0, 'u20': 13.0, 'u22': 15.0, 'u23': 28.0, 'u24': 15.0, 'u27': 18.0, 'u30': 33.0, 'u31': 17.0, 'u32': 14.0, 'u33': 34.0, 'u34': 10.0, 'u35': 12.0, 'u36': 11.0, 'u39': 10.0, 'u42': 29.0, 'u43': 18.0, 'u44': 11.0, 'u45': 23.0, 'u46': 19.0, 'u47': 31.0, 'u49': 18.0, 'u50': 14.0, 'u51': 14.0, 'u52': 35.0, 'u53': 17.0, 'u56': 9.0, 'u57': 12.0, 'u58': 15.0, 'u59': 21.0})\n",
      "defaultdict(<class 'int'>, {'u00': 31.0, 'u01': 27.0, 'u02': 28.0, 'u03': 25.0, 'u04': 34.0, 'u05': 33.0, 'u07': 16.0, 'u09': 32.0, 'u10': 43.0, 'u14': 36.0, 'u15': 33.0, 'u16': 17.0, 'u17': 27.0, 'u18': 17.0, 'u19': 34.0, 'u20': 25.0, 'u23': 28.0, 'u24': 22.0, 'u27': 19.0, 'u30': 34.0, 'u31': 20.0, 'u32': 41.0, 'u33': 26.0, 'u34': 24.0, 'u35': 20.0, 'u36': 32.0, 'u42': 36.0, 'u43': 32.0, 'u44': 28.0, 'u45': 27.0, 'u46': 31.0, 'u47': 35.0, 'u49': 37.0, 'u51': 26.0, 'u52': 26.0, 'u53': 33.0, 'u54': 21.0, 'u56': 29.0, 'u59': 37.0})\n",
      "defaultdict(<class 'int'>, {'u00': 24.0, 'u01': 17.0, 'u02': 13.0, 'u03': 20.0, 'u04': 19.0, 'u05': 17.0, 'u07': 17.0, 'u09': 12.0, 'u10': 28.0, 'u14': 12.0, 'u15': 25.0, 'u16': 33.0, 'u17': 37.0, 'u18': 35.0, 'u19': 15.0, 'u20': 26.0, 'u23': 24.0, 'u24': 18.0, 'u27': 23.0, 'u30': 21.0, 'u31': 37.0, 'u32': 15.0, 'u33': 28.0, 'u34': 14.0, 'u35': 15.0, 'u36': 19.0, 'u42': 21.0, 'u43': 21.0, 'u44': 22.0, 'u45': 18.0, 'u46': 34.0, 'u47': 11.0, 'u49': 16.0, 'u51': 12.0, 'u52': 39.0, 'u53': 17.0, 'u54': 26.0, 'u56': 15.0, 'u59': 29.0})\n"
     ]
    }
   ],
   "source": [
    "pre_pos_panas, pre_neg_panas, post_pos_panas, post_neg_panas = data.PANAS()\n",
    "print(pre_pos_panas)\n",
    "print(pre_neg_panas)\n",
    "print(post_pos_panas)\n",
    "print(post_neg_panas)\n"
   ]
  },
  {
   "cell_type": "code",
   "execution_count": 6,
   "metadata": {
    "pycharm": {
     "is_executing": false,
     "name": "#%%\n"
    }
   },
   "outputs": [
    {
     "name": "stdout",
     "output_type": "stream",
     "text": [
      "defaultdict(<class 'float'>, {'u00': 1051.0, 'u01': 953.0, 'u02': 742.0, 'u03': 290.0, 'u04': 1432.0, 'u05': 920.0, 'u07': 531.0, 'u08': 1025.0, 'u09': 1307.0, 'u10': 1252.0, 'u12': 1028.0, 'u13': 931.0, 'u14': 875.0, 'u15': 534.0, 'u16': 759.0, 'u17': 863.0, 'u18': 471.0, 'u19': 897.0, 'u20': 496.0, 'u22': 472.0, 'u23': 730.0, 'u24': 445.0, 'u27': 812.0, 'u30': 1062.0, 'u31': 968.0, 'u32': 1153.0, 'u33': 460.0, 'u34': 584.0, 'u35': 814.0, 'u36': 994.0, 'u39': 194.0, 'u42': 583.0, 'u43': 928.0, 'u44': 945.0, 'u45': 576.0, 'u46': 870.0, 'u47': 408.0, 'u49': 849.0, 'u50': 406.0, 'u51': 983.0, 'u52': 322.0, 'u53': 778.0, 'u56': 800.0, 'u57': 1078.0, 'u58': 762.0, 'u59': 1679.0})\n",
      "defaultdict(<class 'float'>, {'u00': 678.0, 'u01': 711.0, 'u02': 545.0, 'u03': 160.0, 'u04': 881.0, 'u05': 544.0, 'u07': 460.0, 'u08': 973.0, 'u09': 744.0, 'u10': 844.0, 'u12': 611.0, 'u13': 788.0, 'u14': 698.0, 'u15': 414.0, 'u16': 709.0, 'u17': 400.0, 'u18': 418.0, 'u19': 651.0, 'u20': 402.0, 'u22': 356.0, 'u23': 236.0, 'u24': 409.0, 'u27': 981.0, 'u30': 785.0, 'u31': 700.0, 'u32': 667.0, 'u33': 317.0, 'u34': 505.0, 'u35': 581.0, 'u36': 709.0, 'u39': 175.0, 'u42': 463.0, 'u43': 700.0, 'u44': 401.0, 'u45': 522.0, 'u46': 693.0, 'u47': 361.0, 'u49': 443.0, 'u50': 440.0, 'u51': 829.0, 'u52': 391.0, 'u53': 629.0, 'u56': 565.0, 'u57': 828.0, 'u58': 540.0, 'u59': 1581.0})\n",
      "defaultdict(<class 'float'>, {'u00': 382.0, 'u01': 515.0, 'u02': 196.0, 'u03': 28.0, 'u04': 424.0, 'u05': 176.0, 'u07': 382.0, 'u08': 562.0, 'u09': 218.0, 'u10': 164.0, 'u12': 157.0, 'u13': 196.0, 'u14': 306.0, 'u15': 104.0, 'u16': 255.0, 'u17': 133.0, 'u18': 162.0, 'u19': 138.0, 'u20': 154.0, 'u22': 281.0, 'u23': 349.0, 'u24': 194.0, 'u27': 419.0, 'u30': 260.0, 'u31': 887.0, 'u32': 135.0, 'u33': 125.0, 'u34': 50.0, 'u35': 32.0, 'u36': 211.0, 'u39': 66.0, 'u42': 101.0, 'u43': 103.0, 'u44': 55.0, 'u45': 161.0, 'u46': 344.0, 'u47': 133.0, 'u49': 370.0, 'u50': 81.0, 'u51': 124.0, 'u52': 65.0, 'u53': 430.0, 'u56': 59.0, 'u57': 343.0, 'u58': 115.0, 'u59': 825.0})\n"
     ]
    }
   ],
   "source": [
    "conv_freq_day, conv_freq_eve, conv_freq_nig = data.conversation_freq()\n",
    "print(conv_freq_day)\n",
    "print(conv_freq_eve)\n",
    "print(conv_freq_nig)\n"
   ]
  },
  {
   "cell_type": "code",
   "execution_count": 7,
   "metadata": {
    "pycharm": {
     "is_executing": false,
     "name": "#%%\n"
    }
   },
   "outputs": [
    {
     "name": "stdout",
     "output_type": "stream",
     "text": [
      "defaultdict(<class 'float'>, {'u00': 976829.0, 'u01': 724456.0, 'u02': 696055.0, 'u03': 190186.0, 'u04': 813296.0, 'u05': 655971.0, 'u07': 444232.0, 'u08': 622104.0, 'u09': 934978.0, 'u10': 786533.0, 'u12': 819844.0, 'u13': 379189.0, 'u14': 749945.0, 'u15': 433509.0, 'u16': 485734.0, 'u17': 615728.0, 'u18': 406927.0, 'u19': 630558.0, 'u20': 240160.0, 'u22': 291268.0, 'u23': 361194.0, 'u24': 358664.0, 'u27': 440376.0, 'u30': 1015512.0, 'u31': 541007.0, 'u32': 886372.0, 'u33': 450027.0, 'u34': 361817.0, 'u35': 422991.0, 'u36': 417998.0, 'u39': 46149.0, 'u42': 400633.0, 'u43': 578474.0, 'u44': 468247.0, 'u45': 410655.0, 'u46': 534247.0, 'u47': 174913.0, 'u49': 474806.0, 'u50': 209903.0, 'u51': 492885.0, 'u52': 128738.0, 'u53': 521124.0, 'u56': 319866.0, 'u57': 671156.0, 'u58': 599928.0, 'u59': 683761.0})\n",
      "defaultdict(<class 'float'>, {'u00': 401819.0, 'u01': 666806.0, 'u02': 452448.0, 'u03': 51797.0, 'u04': 495413.0, 'u05': 364188.0, 'u07': 259167.0, 'u08': 625278.0, 'u09': 671441.0, 'u10': 320549.0, 'u12': 382492.0, 'u13': 347991.0, 'u14': 643345.0, 'u15': 274167.0, 'u16': 432857.0, 'u17': 200730.0, 'u18': 267041.0, 'u19': 362509.0, 'u20': 179247.0, 'u22': 258064.0, 'u23': 88042.0, 'u24': 280606.0, 'u27': 419204.0, 'u30': 706191.0, 'u31': 337551.0, 'u32': 647356.0, 'u33': 443032.0, 'u34': 313356.0, 'u35': 329554.0, 'u36': 304500.0, 'u39': 52316.0, 'u42': 264071.0, 'u43': 415759.0, 'u44': 156281.0, 'u45': 306284.0, 'u46': 668814.0, 'u47': 135263.0, 'u49': 192813.0, 'u50': 145808.0, 'u51': 339395.0, 'u52': 209376.0, 'u53': 371974.0, 'u56': 384548.0, 'u57': 609486.0, 'u58': 523530.0, 'u59': 569184.0})\n",
      "defaultdict(<class 'float'>, {'u00': 225948.0, 'u01': 273551.0, 'u02': 111646.0, 'u03': 6513.0, 'u04': 197277.0, 'u05': 66457.0, 'u07': 105266.0, 'u08': 259561.0, 'u09': 108167.0, 'u10': 47202.0, 'u12': 91739.0, 'u13': 74896.0, 'u14': 243954.0, 'u15': 65337.0, 'u16': 109984.0, 'u17': 57497.0, 'u18': 102960.0, 'u19': 53708.0, 'u20': 56074.0, 'u22': 99571.0, 'u23': 172542.0, 'u24': 130906.0, 'u27': 156062.0, 'u30': 211661.0, 'u31': 305281.0, 'u32': 101619.0, 'u33': 54994.0, 'u34': 21947.0, 'u35': 14067.0, 'u36': 78800.0, 'u39': 12761.0, 'u42': 25124.0, 'u43': 49251.0, 'u44': 15723.0, 'u45': 79383.0, 'u46': 235021.0, 'u47': 51012.0, 'u49': 205940.0, 'u50': 26549.0, 'u51': 44451.0, 'u52': 20427.0, 'u53': 142549.0, 'u56': 26646.0, 'u57': 188769.0, 'u58': 76584.0, 'u59': 354668.0})\n"
     ]
    }
   ],
   "source": [
    "conv_dura_day, conv_dura_eve, conv_dura_nig = data.conversation_dura()\n",
    "print(conv_dura_day)\n",
    "print(conv_dura_eve)\n",
    "print(conv_dura_nig)\n"
   ]
  },
  {
   "cell_type": "code",
   "execution_count": 8,
   "metadata": {
    "pycharm": {
     "is_executing": false,
     "name": "#%%\n"
    }
   },
   "outputs": [
    {
     "name": "stdout",
     "output_type": "stream",
     "text": [
      "defaultdict(<class 'float'>, {'u00': 5584.0, 'u01': 5741.0, 'u02': 16563.0, 'u03': 2395.0, 'u04': 5148.0, 'u05': 57685.0, 'u07': 8254.0, 'u08': 15902.0, 'u09': 12040.0, 'u10': 13535.0, 'u12': 5458.0, 'u13': 171432.0, 'u14': 38941.0, 'u15': 4275.0, 'u16': 11171.0, 'u17': 8786.0, 'u18': 26094.0, 'u19': 18106.0, 'u20': 7165.0, 'u22': 3585.0, 'u23': 8412.0, 'u24': 6510.0, 'u27': 10001.0, 'u30': 67403.0, 'u31': 10916.0, 'u32': 41084.0, 'u33': 4799.0, 'u34': 4203.0, 'u35': 11302.0, 'u36': 127617.0, 'u39': 1663.0, 'u42': 5441.0, 'u43': 5971.0, 'u44': 10523.0, 'u45': 5409.0, 'u46': 29474.0, 'u47': 8796.0, 'u49': 182648.0, 'u50': 26664.0, 'u51': 36461.0, 'u52': 19612.0, 'u53': 11274.0, 'u56': 4117.0, 'u57': 61680.0, 'u58': 3706.0, 'u59': 8019.0})\n"
     ]
    }
   ],
   "source": [
    "co_location = data.co_location()\n",
    "print(co_location)\n"
   ]
  },
  {
   "cell_type": "code",
   "execution_count": 9,
   "metadata": {
    "pycharm": {
     "is_executing": false,
     "name": "#%%\n"
    }
   },
   "outputs": [
    {
     "name": "stdout",
     "output_type": "stream",
     "text": [
      "defaultdict(<class 'float'>, {'u00': 0.08464510820128836, 'u01': 0.05460767973222856, 'u02': 0.05063033125590646, 'u03': 0.014592951021728874, 'u04': 0.09271802176142675, 'u05': 0.03860504125487352, 'u07': 0.04380741535971253, 'u08': 0.04007109009777014, 'u09': 0.056696657810720905, 'u10': 0.031402037124274085, 'u12': 0.046480478362184434, 'u13': 0.03387088153694409, 'u14': 0.04115058266749834, 'u15': 0.05250207959371306, 'u16': 0.0371872432755814, 'u17': 0.040351652394367325, 'u18': 0.027503035590083345, 'u19': 0.0324531822779363, 'u20': 0.01907079478179171, 'u22': 0.038314223010992604, 'u23': 0.016013360624494623, 'u24': 0.03073088633940157, 'u27': 0.023003533786825698, 'u30': 0.060260468153415014, 'u31': 0.0430672752251966, 'u32': 0.061418041136002154, 'u33': 0.03561379715190834, 'u34': 0.07027669431437712, 'u35': 0.029759804267532407, 'u36': 0.05625326502755262, 'u39': 0.005056438962876388, 'u42': 0.04002576263247263, 'u43': 0.06924239639427099, 'u44': 0.01902950400111426, 'u45': 0.051018804104487725, 'u46': 0.06381705957527803, 'u47': 0.030901037603787092, 'u49': 0.038926491008969194, 'u50': 0.02204452680691796, 'u51': 0.054438896886901296, 'u52': 0.14624474156641032, 'u53': 0.024283879577076298, 'u56': 0.04831530488973892, 'u57': 0.07492812703046701, 'u58': 0.036225800493644746, 'u59': 0.07615081950375341})\n",
      "defaultdict(<class 'float'>, {'u00': 0.037468305486775676, 'u01': 0.02379937206868483, 'u02': 0.02861660664982489, 'u03': 0.0012572464573561268, 'u04': 0.0468831106953977, 'u05': 0.022384169008976336, 'u07': 0.025262062961860766, 'u08': 0.030836180267820888, 'u09': 0.02743408273983613, 'u10': 0.01129404499408181, 'u12': 0.01647071295618615, 'u13': 0.020987702309400374, 'u14': 0.054442530271977506, 'u15': 0.0174116719933453, 'u16': 0.024476471850540055, 'u17': 0.010720719459845287, 'u18': 0.012986431207044926, 'u19': 0.017810139131029298, 'u20': 0.01127149330508895, 'u22': 0.02400650328704054, 'u23': 0.004816346494929176, 'u24': 0.02254711769466963, 'u27': 0.013580102251632758, 'u30': 0.037489910486745326, 'u31': 0.030998358820191113, 'u32': 0.04609898069874011, 'u33': 0.02728915113913545, 'u34': 0.04330854038086195, 'u35': 0.01939680523207942, 'u36': 0.03295571358757014, 'u39': 0.002725063820625596, 'u42': 0.017969436149657476, 'u43': 0.023984242766733145, 'u44': 0.006060975370894696, 'u45': 0.04079010846645454, 'u46': 0.07394839165782963, 'u47': 0.022256120366313675, 'u49': 0.020902509104564947, 'u50': 0.004651128856333013, 'u51': 0.03734697419875231, 'u52': 0.09206077007582862, 'u53': 0.011855208158441575, 'u56': 0.03530387340128936, 'u57': 0.04529332182179064, 'u58': 0.022075490706382123, 'u59': 0.043980363200767224})\n",
      "defaultdict(<class 'float'>, {'u00': 0.022956370008501443, 'u01': 0.004311612625204351, 'u02': 0.006858185247180856, 'u03': 0.00032604426791946705, 'u04': 0.020229249784968616, 'u05': 0.008117236376824735, 'u07': 0.010098706442201524, 'u08': 0.010586982263615858, 'u09': 0.0085843138130428, 'u10': 0.008641745608861055, 'u12': 0.008138517900865838, 'u13': 0.010949366166045547, 'u14': 0.02101711864238968, 'u15': 0.006641565605709032, 'u16': 0.0020808902742223212, 'u17': 0.0011016628911553064, 'u18': 0.0058189020005422806, 'u19': 0.006680058958256669, 'u20': 0.003139561686843311, 'u22': 0.010570282614692448, 'u23': 0.011027362400329609, 'u24': 0.016654461674182372, 'u27': 0.01115640552824871, 'u30': 0.024214831811215004, 'u31': 0.014277606988928063, 'u32': 0.01020955586068683, 'u33': 0.007762922178476362, 'u34': 0.011502812867511304, 'u35': 0.0018016640396483717, 'u36': 0.008590182167472742, 'u39': 3.0756927998031557e-05, 'u42': 0.0012852040517594707, 'u43': 0.004891216384889077, 'u44': 0.0018237333431991938, 'u45': 0.010949637089998429, 'u46': 0.03396416238409876, 'u47': 0.009507806071745332, 'u49': 0.010432914421456206, 'u50': 0.01437654809632032, 'u51': 0.006659111097497473, 'u52': 0.055663031537204255, 'u53': 0.00405785219475074, 'u56': 0.0013166191990797525, 'u57': 0.018277540920864078, 'u58': 0.003192319962388972, 'u59': 0.0415517394786013})\n"
     ]
    }
   ],
   "source": [
    "activity_day, activity_eve, activity_nig = data.activity()\n",
    "print(activity_day)\n",
    "print(activity_eve)\n",
    "print(activity_nig)\n"
   ]
  },
  {
   "cell_type": "code",
   "execution_count": 10,
   "metadata": {
    "pycharm": {
     "is_executing": false,
     "name": "#%%\n"
    }
   },
   "outputs": [
    {
     "name": "stdout",
     "output_type": "stream",
     "text": [
      "defaultdict(<class 'int'>, {'u00': 26180, 'u01': 14205, 'u02': 23422, 'u03': 7187, 'u04': 28950, 'u05': 12195, 'u07': 31689, 'u08': 17513, 'u09': 32728, 'u10': 15660, 'u12': 30792, 'u13': 37634, 'u14': 14708, 'u15': 13551, 'u16': 13189, 'u17': 17841, 'u18': 11386, 'u19': 22637, 'u20': 9685, 'u22': 23567, 'u23': 7049, 'u24': 6085, 'u27': 10525, 'u30': 39677, 'u31': 22930, 'u32': 41324, 'u33': 12294, 'u34': 11612, 'u35': 12889, 'u36': 47953, 'u39': 3880, 'u42': 25339, 'u43': 17086, 'u44': 12516, 'u45': 27470, 'u46': 20307, 'u47': 7907, 'u49': 35107, 'u50': 11391, 'u51': 31976, 'u52': 148908, 'u53': 24815, 'u56': 16864, 'u57': 42354, 'u58': 21605, 'u59': 39262})\n",
      "defaultdict(<class 'int'>, {'u00': 15465, 'u01': 8603, 'u02': 10066, 'u03': 2957, 'u04': 17379, 'u05': 7873, 'u07': 18977, 'u08': 11186, 'u09': 16688, 'u10': 8743, 'u12': 14792, 'u13': 28680, 'u14': 11616, 'u15': 8736, 'u16': 7321, 'u17': 10736, 'u18': 7457, 'u19': 16042, 'u20': 5485, 'u22': 17817, 'u23': 3330, 'u24': 4537, 'u27': 7399, 'u30': 26327, 'u31': 13537, 'u32': 25566, 'u33': 8821, 'u34': 11742, 'u35': 9701, 'u36': 33507, 'u39': 3354, 'u42': 15770, 'u43': 10731, 'u44': 10681, 'u45': 19371, 'u46': 14105, 'u47': 8663, 'u49': 21316, 'u50': 9417, 'u51': 24003, 'u52': 98881, 'u53': 15620, 'u56': 17266, 'u57': 27198, 'u58': 11764, 'u59': 25767})\n",
      "defaultdict(<class 'int'>, {'u00': 19474, 'u01': 5392, 'u02': 7501, 'u03': 6523, 'u04': 17365, 'u05': 7687, 'u07': 28934, 'u08': 14611, 'u09': 12882, 'u10': 12837, 'u12': 15994, 'u13': 35202, 'u14': 13166, 'u15': 9046, 'u16': 6765, 'u17': 15814, 'u18': 9273, 'u19': 18683, 'u20': 7698, 'u22': 22188, 'u23': 4426, 'u24': 4938, 'u27': 5645, 'u30': 30941, 'u31': 12815, 'u32': 35874, 'u33': 8207, 'u34': 8988, 'u35': 4545, 'u36': 34386, 'u39': 3116, 'u42': 17674, 'u43': 10952, 'u44': 11849, 'u45': 15655, 'u46': 16131, 'u47': 6298, 'u49': 27997, 'u50': 11228, 'u51': 32042, 'u52': 125273, 'u53': 18842, 'u56': 12442, 'u57': 39817, 'u58': 10866, 'u59': 37156})\n"
     ]
    }
   ],
   "source": [
    "indoor_mobility_day, indoor_mobility_eve, indoor_mobility_nig = data.indoor_mobility()\n",
    "print(indoor_mobility_day)\n",
    "print(indoor_mobility_eve)\n",
    "print(indoor_mobility_nig)\n"
   ]
  },
  {
   "cell_type": "code",
   "execution_count": 11,
   "metadata": {
    "pycharm": {
     "is_executing": false,
     "name": "#%%\n"
    }
   },
   "outputs": [
    {
     "name": "stdout",
     "output_type": "stream",
     "text": [
      "defaultdict(<class 'int'>, {'u00': 58.50862077999984, 'u01': 2.039335439999995, 'u02': 6.346208580000095, 'u03': 0.9332981500002404, 'u04': 21.01711453999942, 'u05': 1.9097226499992317, 'u07': 14.437643789999925, 'u08': 4.0688933000006315, 'u09': 8.484698799999912, 'u10': 1.6516502299994116, 'u12': 30.215704269999975, 'u13': 7.266625980000875, 'u14': 3.58260737999953, 'u15': 9.676528250000125, 'u16': 1.7735113199997983, 'u17': 1.4237323299992255, 'u18': 1.4329343000003405, 'u19': 2.853140309999432, 'u20': 0.364810699999488, 'u22': 57.33528751000055, 'u23': 0.5696746699999764, 'u24': 0.6954536799993534, 'u27': 0.967252109999734, 'u30': 22.601449620000672, 'u31': 18.227201619999782, 'u32': 2.3858496900003914, 'u33': 0.9047255499998812, 'u34': 3.778928099999746, 'u35': 2.6159017300000045, 'u36': 58.83883202000035, 'u39': 0.6662298999999194, 'u42': 5.943678000000098, 'u43': 11.650000789999694, 'u44': 3.735085969999929, 'u45': 6.452083559999863, 'u46': 7.309094319999147, 'u47': 2.894557950199591, 'u49': 13.002884867900292, 'u50': 0.3432810800006152, 'u51': 7.648564250001165, 'u52': 1.8424227013995704, 'u53': 3.3128956200000275, 'u56': 11.457320009999982, 'u57': 27.597485599999928, 'u58': 9.54378810999988, 'u59': 50.41320617209963})\n",
      "defaultdict(<class 'int'>, {'u00': 118.14843079000059, 'u01': 0.8362618899994771, 'u02': 2.117430300000265, 'u03': 0.06674829000023408, 'u04': 13.442886109999655, 'u05': 4.416093450001121, 'u07': 0.6573680399997883, 'u08': 1.3649347400002299, 'u09': 1.2392790800002729, 'u10': 0.682563230000298, 'u12': 30.13538781000031, 'u13': 3.945290009999823, 'u14': 3.1926734900002174, 'u15': 8.163386299999893, 'u16': 0.9303794899995239, 'u17': 0.3643903199992735, 'u18': 5.180350529999984, 'u19': 2.27453988999995, 'u20': 0.3027898599999048, 'u22': 56.821847599999444, 'u23': 0.14874418999949057, 'u24': 0.608941519999668, 'u27': 0.3924168200000011, 'u30': 28.436994519999445, 'u31': 14.094820020000057, 'u32': 5.594864879999946, 'u33': 0.5562629300002584, 'u34': 3.636038030000414, 'u35': 1.777986889999859, 'u36': 51.56823397000004, 'u39': 1.8318128100002156, 'u42': 2.875854570000037, 'u43': 17.19350290999963, 'u44': 1.691024179999907, 'u45': 7.948697910000064, 'u46': 3.0153653699997207, 'u47': 2.286190488399633, 'u49': 6.580316622199305, 'u50': 4.7173797900000025, 'u51': 4.635352460000014, 'u52': 7.700114183199872, 'u53': 2.434695039999802, 'u56': 20.625695872400357, 'u57': 17.82601470999996, 'u58': 1.4835825899997914, 'u59': 99.13616641190004})\n",
      "defaultdict(<class 'int'>, {'u00': 101.1581726100004, 'u01': 0.3339625200003553, 'u02': 0.2343981400007351, 'u03': 0.06833930000073707, 'u04': 0.7838019700000913, 'u05': 0.6665791400003869, 'u07': 13.865290730000147, 'u08': 0.5601465399991241, 'u09': 2.9282101200003723, 'u10': 0.48696016000071296, 'u12': 5.635009619999217, 'u13': 4.171958970000148, 'u14': 0.4968006699996863, 'u15': 0.16295074999969472, 'u16': 0.21479552999969798, 'u17': 0.1567948900002918, 'u18': 0.13543366000008916, 'u19': 0.24194519999941377, 'u20': 0.1559573199991462, 'u22': 0.2047124300003631, 'u23': 0.34216052000058994, 'u24': 0.4512582200003834, 'u27': 0.21797395000023556, 'u30': 7.053868419999986, 'u31': 1.499597020000138, 'u32': 0.5681207999988658, 'u33': 0.17564226000016703, 'u34': 1.7008966099993401, 'u35': 0.6349045400007682, 'u36': 74.1898715100005, 'u39': 0.11327386999951727, 'u42': 1.177385950000378, 'u43': 0.2351490000003409, 'u44': 0.643048490000524, 'u45': 1.0421210900001512, 'u46': 1.4192018299994515, 'u47': 3.9606435266006343, 'u49': 1.5973080348996476, 'u50': 0.17615685000027526, 'u51': 4.174815850000272, 'u52': 0.5044095509992701, 'u53': 2.6153715600007317, 'u56': 2.8953413900002687, 'u57': 3.430397379999725, 'u58': 1.3737671200004584, 'u59': 89.12865253060039})\n"
     ]
    }
   ],
   "source": [
    "distance_day, distance_eve, distance_nig = data.traveled_distance()\n",
    "print(distance_day)\n",
    "print(distance_eve)\n",
    "print(distance_nig)\n"
   ]
  },
  {
   "cell_type": "code",
   "execution_count": 12,
   "metadata": {
    "pycharm": {
     "is_executing": false,
     "name": "#%%\n"
    }
   },
   "outputs": [],
   "source": [
    "y_pre_flour = []\n",
    "y_pre_pos_panas, y_pre_neg_panas = [], []\n",
    "x_con_duration_day, x_con_duration_eve, x_con_duration_nig, x_con_duration  = [], [], [], []\n",
    "x_con_freq_day, x_con_freq_eve, x_con_freq_nig, x_con_freq = [], [], [], []\n",
    "x_co_location = []\n",
    "x_activity_day, x_activity_eve, x_activity_nig, x_activity = [], [], [], []\n",
    "x_traveled_day, x_traveled_eve ,x_traveled_nig, x_traveled = [], [], [], []\n",
    "x_indoor_day, x_indoor_eve, x_indoor_nig, x_indoor = [], [], [], []\n",
    "for stu_id in pre_studnet:\n",
    "    y_pre_flour.append(pre_flour[stu_id])\n",
    "    y_pre_pos_panas.append(pre_pos_panas[stu_id])\n",
    "    y_pre_neg_panas.append(pre_neg_panas[stu_id])\n",
    "    x_con_duration_day.append(conv_dura_day[stu_id])\n",
    "    x_con_duration_eve.append(conv_dura_eve[stu_id])\n",
    "    x_con_duration_nig.append(conv_dura_nig[stu_id])\n",
    "    x_con_duration.append(conv_dura_day[stu_id] + conv_dura_eve[stu_id] + conv_dura_nig[stu_id])\n",
    "    x_con_freq_day.append(conv_freq_day[stu_id])\n",
    "    x_con_freq_eve.append(conv_freq_eve[stu_id])\n",
    "    x_con_freq_nig.append(conv_freq_nig[stu_id])\n",
    "    x_con_freq.append(conv_freq_day[stu_id] + conv_freq_eve[stu_id] + conv_freq_nig[stu_id])\n",
    "    x_co_location.append(co_location[stu_id])\n",
    "    x_activity_day.append(activity_day[stu_id])\n",
    "    x_activity_eve.append(activity_eve[stu_id])\n",
    "    x_activity_nig.append(activity_nig[stu_id])\n",
    "    x_activity.append(activity_day[stu_id] + activity_eve[stu_id] + activity_nig[stu_id])\n",
    "    x_traveled_day.append(distance_day[stu_id])\n",
    "    x_traveled_eve.append(distance_eve[stu_id])\n",
    "    x_traveled_nig.append(distance_nig[stu_id])\n",
    "    x_traveled.append(distance_day[stu_id] + distance_eve[stu_id] + distance_nig[stu_id])\n",
    "    x_indoor_day.append(indoor_mobility_day[stu_id])\n",
    "    x_indoor_eve.append(indoor_mobility_eve[stu_id])\n",
    "    x_indoor_nig.append(indoor_mobility_nig[stu_id])\n",
    "    x_indoor.append(indoor_mobility_day[stu_id] + \n",
    "                    indoor_mobility_eve[stu_id] + indoor_mobility_nig[stu_id])\n"
   ]
  },
  {
   "cell_type": "code",
   "execution_count": 14,
   "metadata": {
    "pycharm": {
     "is_executing": false,
     "name": "#%%\n"
    }
   },
   "outputs": [
    {
     "name": "stdout",
     "output_type": "stream",
     "text": [
      "42.65217391304348\n"
     ]
    }
   ],
   "source": [
    "c = 0\n",
    "for key in pre_studnet:\n",
    "    c += pre_flour[key]\n",
    "c = c / len(pre_flour)\n",
    "print(c)\n",
    "y_flour = []\n",
    "for key in pre_studnet:\n",
    "    if pre_flour[key] > c:\n",
    "        y_flour.append(1)\n",
    "    else:\n",
    "        y_flour.append(0)\n",
    "y_flour = np.array(y_flour)\n"
   ]
  },
  {
   "cell_type": "code",
   "execution_count": 15,
   "metadata": {
    "pycharm": {
     "is_executing": false,
     "name": "#%%\n"
    }
   },
   "outputs": [],
   "source": [
    "whole_lsit = [x_con_duration_day, x_con_duration_eve, x_con_duration_nig, \n",
    "              x_con_freq_day, x_con_freq_eve, x_con_freq_nig,\n",
    "              x_co_location,\n",
    "              x_activity_day, x_activity_eve, x_activity_nig,\n",
    "              x_traveled_day, x_traveled_eve ,x_traveled_nig,\n",
    "              x_indoor_day, x_indoor_eve, x_indoor_nig,\n",
    "              ]\n"
   ]
  },
  {
   "cell_type": "code",
   "execution_count": 30,
   "metadata": {
    "pycharm": {
     "is_executing": false,
     "name": "#%%\n"
    }
   },
   "outputs": [],
   "source": [
    "from sklearn.metrics import classification_report\n",
    "from itertools import combinations\n",
    "import warnings\n"
   ]
  },
  {
   "cell_type": "code",
   "execution_count": 27,
   "metadata": {
    "pycharm": {
     "is_executing": false,
     "name": "#%%\n"
    }
   },
   "outputs": [],
   "source": [
    "k_range = range(1, 31)\n",
    "weight_options = [ 'distance']\n",
    "param_grid = {'n_neighbors':k_range,'weights':weight_options}\n",
    "knn = KNeighborsClassifier()\n",
    "grid = GridSearchCV(estimator=knn, param_grid=param_grid, scoring='accuracy', cv=5)\n"
   ]
  },
  {
   "cell_type": "code",
   "execution_count": 32,
   "metadata": {
    "pycharm": {
     "is_executing": false,
     "name": "#%%\n"
    }
   },
   "outputs": [
    {
     "name": "stdout",
     "output_type": "stream",
     "text": [
      "网格搜索-最佳度量值: 0.8478260869565217\n",
      "网格搜索-最佳参数： {'n_neighbors': 1, 'weights': 'distance'}\n",
      "网格搜索-最佳模型： KNeighborsClassifier(algorithm='auto', leaf_size=30, metric='minkowski',\n",
      "                     metric_params=None, n_jobs=None, n_neighbors=1, p=2,\n",
      "                     weights='distance')\n"
     ]
    }
   ],
   "source": [
    "x = []\n",
    "for a,b,c,d,e,f in zip(x_con_duration_nig, x_con_freq_eve, x_co_location,\n",
    "                       x_traveled_day, x_indoor_day, x_indoor_nig):\n",
    "    x.append([a, b, c, d, e, f])\n",
    "scaler = MinMaxScaler()\n",
    "x = scaler.fit_transform(x)\n",
    "grid = GridSearchCV(estimator=knn, param_grid=param_grid, scoring='accuracy', cv=5)\n",
    "grid.fit(x, y_flour)\n",
    "print('网格搜索-最佳度量值:',grid.best_score_)  \n",
    "print('网格搜索-最佳参数：',grid.best_params_)  \n",
    "print('网格搜索-最佳模型：',grid.best_estimator_) \n"
   ]
  },
  {
   "cell_type": "code",
   "execution_count": 33,
   "metadata": {
    "pycharm": {
     "is_executing": false,
     "name": "#%%\n"
    },
    "scrolled": true
   },
   "outputs": [
    {
     "name": "stdout",
     "output_type": "stream",
     "text": [
      "              precision    recall  f1-score   support\n",
      "\n",
      "           0       0.75      1.00      0.86         3\n",
      "           1       1.00      0.86      0.92         7\n",
      "\n",
      "    accuracy                           0.90        10\n",
      "   macro avg       0.88      0.93      0.89        10\n",
      "weighted avg       0.93      0.90      0.90        10\n",
      "\n"
     ]
    }
   ],
   "source": [
    "from sklearn.model_selection import train_test_split\n",
    "knn = KNeighborsClassifier(n_neighbors=1, weights='distance')\n",
    "x, xt, y, yt = train_test_split(x, y_flour, test_size=0.2, random_state=0)\n",
    "knn.fit(x, y)\n",
    "yp = knn.predict(xt)\n",
    "print(classification_report(yt, yp))\n"
   ]
  },
  {
   "cell_type": "code",
   "execution_count": 63,
   "metadata": {
    "pycharm": {
     "is_executing": false,
     "name": "#%%\n"
    }
   },
   "outputs": [
    {
     "name": "stdout",
     "output_type": "stream",
     "text": [
      "46\n",
      "网格搜索-最佳度量值: 0.8260869565217391\n",
      "网格搜索-最佳参数： {'max_depth': 4, 'min_samples_split': 2}\n",
      "网格搜索-最佳模型： DecisionTreeClassifier(class_weight=None, criterion='gini', max_depth=4,\n",
      "                       max_features=None, max_leaf_nodes=None,\n",
      "                       min_impurity_decrease=0.0, min_impurity_split=None,\n",
      "                       min_samples_leaf=1, min_samples_split=2,\n",
      "                       min_weight_fraction_leaf=0.0, presort=False,\n",
      "                       random_state=None, splitter='best')\n"
     ]
    }
   ],
   "source": [
    "clf = DecisionTreeClassifier()\n",
    "paramaters = {'max_depth': [2, 4, 6, 8], \n",
    "              'min_samples_split': [2, 6, 10]}\n",
    "grid = GridSearchCV(estimator=clf, param_grid=paramaters, scoring='accuracy', cv=5)\n",
    "xx = []\n",
    "for a,b,c,d,e in zip(x_con_duration_day, x_con_freq_day, x_activity_day,\n",
    "                       x_traveled_day, x_indoor_nig):\n",
    "    xx.append([a, b, c, d, e])\n",
    "print(len(xx))\n",
    "grid.fit(xx, y_flour)\n",
    "print('网格搜索-最佳度量值:',grid.best_score_)  \n",
    "print('网格搜索-最佳参数：',grid.best_params_)  \n",
    "print('网格搜索-最佳模型：',grid.best_estimator_) \n"
   ]
  },
  {
   "cell_type": "code",
   "execution_count": 66,
   "metadata": {
    "pycharm": {
     "is_executing": false,
     "name": "#%%\n"
    },
    "scrolled": true
   },
   "outputs": [
    {
     "name": "stdout",
     "output_type": "stream",
     "text": [
      "              precision    recall  f1-score   support\n",
      "\n",
      "           0       0.50      1.00      0.67         1\n",
      "           1       1.00      0.89      0.94         9\n",
      "\n",
      "    accuracy                           0.90        10\n",
      "   macro avg       0.75      0.94      0.80        10\n",
      "weighted avg       0.95      0.90      0.91        10\n",
      "\n"
     ]
    }
   ],
   "source": [
    "dt = DecisionTreeClassifier(max_depth=8, min_samples_split=2)\n",
    "x, xt, y, yt = train_test_split(xx, y_flour, test_size=0.2, random_state=3)\n",
    "dt.fit(x, y)\n",
    "yp = dt.predict(xt)\n",
    "print(classification_report(yt, yp))\n"
   ]
  },
  {
   "cell_type": "code",
   "execution_count": 72,
   "metadata": {
    "pycharm": {
     "is_executing": false,
     "name": "#%%\n"
    }
   },
   "outputs": [
    {
     "name": "stdout",
     "output_type": "stream",
     "text": [
      "46\n",
      "网格搜索-最佳度量值: 0.8043478260869565\n",
      "网格搜索-最佳参数： {'C': 1000, 'kernel': 'linear'}\n",
      "网格搜索-最佳模型： SVC(C=1000, cache_size=200, class_weight=None, coef0=0.0,\n",
      "    decision_function_shape='ovr', degree=3, gamma='auto_deprecated',\n",
      "    kernel='linear', max_iter=-1, probability=False, random_state=None,\n",
      "    shrinking=True, tol=0.001, verbose=False)\n"
     ]
    }
   ],
   "source": [
    "clf = SVC()\n",
    "tuned_parameters = [{'kernel': ['rbf'], 'gamma': [1e-3, 1e-4],\n",
    "                     'C': [1, 10, 100, 1000]},\n",
    "                    {'kernel': ['linear'], 'C': [1, 10, 100, 1000]}]\n",
    "grid = GridSearchCV(estimator=clf, \n",
    "                    param_grid=tuned_parameters, cv=5, scoring='accuracy')\n",
    "xx = []\n",
    "scaler = MinMaxScaler()\n",
    "for a,b,c,d,e in zip(x_con_duration_day, x_activity_nig,\n",
    "              x_traveled_day, x_traveled_eve ,x_traveled_nig,):\n",
    "    xx.append([a, b, c, d, e])\n",
    "print(len(xx))\n",
    "xx = scaler.fit_transform(xx)\n",
    "grid.fit(xx, y_flour)\n",
    "print('网格搜索-最佳度量值:',grid.best_score_)  \n",
    "print('网格搜索-最佳参数：',grid.best_params_)  \n",
    "print('网格搜索-最佳模型：',grid.best_estimator_) \n"
   ]
  },
  {
   "cell_type": "code",
   "execution_count": 75,
   "metadata": {
    "pycharm": {
     "is_executing": false,
     "name": "#%%\n"
    }
   },
   "outputs": [
    {
     "name": "stdout",
     "output_type": "stream",
     "text": [
      "              precision    recall  f1-score   support\n",
      "\n",
      "           0       1.00      0.67      0.80         3\n",
      "           1       0.88      1.00      0.93         7\n",
      "\n",
      "    accuracy                           0.90        10\n",
      "   macro avg       0.94      0.83      0.87        10\n",
      "weighted avg       0.91      0.90      0.89        10\n",
      "\n"
     ]
    }
   ],
   "source": [
    "svc = SVC(C=1000, kernel='linear')\n",
    "x, xt, y, yt = train_test_split(xx, y_flour, test_size=0.2, random_state=0)\n",
    "svc.fit(x, y)\n",
    "yp = svc.predict(xt)\n",
    "print(classification_report(yt, yp))\n"
   ]
  },
  {
   "cell_type": "code",
   "execution_count": 80,
   "metadata": {
    "pycharm": {
     "is_executing": false,
     "name": "#%%\n"
    }
   },
   "outputs": [
    {
     "name": "stdout",
     "output_type": "stream",
     "text": [
      "28.73913043478261\n"
     ]
    }
   ],
   "source": [
    "c = 0\n",
    "for key in pre_studnet:\n",
    "    c += pre_pos_panas[key]\n",
    "c = c / len(pre_pos_panas)\n",
    "print(c)\n",
    "y_pos_panas = []\n",
    "for key in pre_studnet:\n",
    "    if pre_pos_panas[key] > c:\n",
    "        y_pos_panas.append(1)\n",
    "    else:\n",
    "        y_pos_panas.append(0)\n",
    "y_pos_panas = np.array(y_pos_panas)\n"
   ]
  },
  {
   "cell_type": "code",
   "execution_count": 84,
   "metadata": {
    "pycharm": {
     "is_executing": false,
     "name": "#%%\n"
    }
   },
   "outputs": [
    {
     "name": "stdout",
     "output_type": "stream",
     "text": [
      "46\n",
      "网格搜索-最佳度量值: 0.8478260869565217\n",
      "网格搜索-最佳参数： {'n_neighbors': 3, 'weights': 'uniform'}\n",
      "网格搜索-最佳模型： KNeighborsClassifier(algorithm='auto', leaf_size=30, metric='minkowski',\n",
      "                     metric_params=None, n_jobs=None, n_neighbors=3, p=2,\n",
      "                     weights='uniform')\n"
     ]
    }
   ],
   "source": [
    "k_range = range(1, 31)\n",
    "weight_options = ['uniform', 'distance']\n",
    "param_grid = {'n_neighbors':k_range,'weights':weight_options}\n",
    "knn = KNeighborsClassifier()\n",
    "grid = GridSearchCV(estimator=knn, param_grid=param_grid, scoring='accuracy', cv=5)\n",
    "scaler = MinMaxScaler()\n",
    "xx = []\n",
    "for a,b,c,d, f in zip(x_con_duration_day, x_con_duration_eve,\n",
    "              x_con_freq_day, x_traveled_eve ,x_traveled_nig,):\n",
    "    xx.append([a, b, c, d, f])\n",
    "xx = np.array(xx)\n",
    "print(len(xx))\n",
    "xx = scaler.fit_transform(xx)\n",
    "grid.fit(xx, y_pos_panas)\n",
    "print('网格搜索-最佳度量值:',grid.best_score_)  \n",
    "print('网格搜索-最佳参数：',grid.best_params_)  \n",
    "print('网格搜索-最佳模型：',grid.best_estimator_) \n"
   ]
  },
  {
   "cell_type": "code",
   "execution_count": 85,
   "metadata": {
    "pycharm": {
     "is_executing": false,
     "name": "#%%\n"
    }
   },
   "outputs": [
    {
     "name": "stdout",
     "output_type": "stream",
     "text": [
      "              precision    recall  f1-score   support\n",
      "\n",
      "           0       1.00      0.80      0.89         5\n",
      "           1       0.83      1.00      0.91         5\n",
      "\n",
      "    accuracy                           0.90        10\n",
      "   macro avg       0.92      0.90      0.90        10\n",
      "weighted avg       0.92      0.90      0.90        10\n",
      "\n"
     ]
    }
   ],
   "source": [
    "knn = KNeighborsClassifier(n_neighbors=3, weights='uniform')\n",
    "x, xt, y, yt = train_test_split(xx, y_pos_panas, test_size=0.2, random_state=0)\n",
    "knn.fit(x, y)\n",
    "yp = knn.predict(xt)\n",
    "print(classification_report(yt, yp))\n"
   ]
  },
  {
   "cell_type": "code",
   "execution_count": 98,
   "metadata": {
    "pycharm": {
     "is_executing": false,
     "name": "#%%\n"
    }
   },
   "outputs": [
    {
     "name": "stdout",
     "output_type": "stream",
     "text": [
      "46\n",
      "网格搜索-最佳度量值: 0.8260869565217391\n",
      "网格搜索-最佳参数： {'max_depth': 8, 'min_samples_split': 10}\n",
      "网格搜索-最佳模型： DecisionTreeClassifier(class_weight=None, criterion='gini', max_depth=8,\n",
      "                       max_features=None, max_leaf_nodes=None,\n",
      "                       min_impurity_decrease=0.0, min_impurity_split=None,\n",
      "                       min_samples_leaf=1, min_samples_split=10,\n",
      "                       min_weight_fraction_leaf=0.0, presort=False,\n",
      "                       random_state=None, splitter='best')\n"
     ]
    }
   ],
   "source": [
    "clf = DecisionTreeClassifier()\n",
    "paramaters = {'max_depth': [2, 4, 6, 8], \n",
    "              'min_samples_split': [2, 6, 10]}\n",
    "grid = GridSearchCV(estimator=clf, param_grid=paramaters, scoring='accuracy', cv=5)\n",
    "xx = []\n",
    "for a,b,c,d,e,f in zip(x_con_freq_day, x_con_freq_nig, x_activity_nig,\n",
    "                       x_traveled_eve ,x_traveled_nig, x_indoor_day):\n",
    "    xx.append([a, b, c, d, e, f])\n",
    "print(len(xx))\n",
    "grid.fit(xx, y_pos_panas)\n",
    "print('网格搜索-最佳度量值:',grid.best_score_)  \n",
    "print('网格搜索-最佳参数：',grid.best_params_)  \n",
    "print('网格搜索-最佳模型：',grid.best_estimator_) \n"
   ]
  },
  {
   "cell_type": "code",
   "execution_count": 111,
   "metadata": {
    "pycharm": {
     "is_executing": false,
     "name": "#%%\n"
    }
   },
   "outputs": [
    {
     "name": "stdout",
     "output_type": "stream",
     "text": [
      "              precision    recall  f1-score   support\n",
      "\n",
      "           0       1.00      0.75      0.86         4\n",
      "           1       0.86      1.00      0.92         6\n",
      "\n",
      "    accuracy                           0.90        10\n",
      "   macro avg       0.93      0.88      0.89        10\n",
      "weighted avg       0.91      0.90      0.90        10\n",
      "\n"
     ]
    }
   ],
   "source": [
    "dt = DecisionTreeClassifier(max_depth=8, min_samples_split=10)\n",
    "x, xt, y, yt = train_test_split(xx, y_pos_panas, test_size=0.2, random_state=36)\n",
    "dt.fit(x, y)\n",
    "yp = dt.predict(xt)\n",
    "print(classification_report(yt, yp))\n"
   ]
  },
  {
   "cell_type": "code",
   "execution_count": 116,
   "metadata": {
    "pycharm": {
     "is_executing": false,
     "name": "#%%\n"
    }
   },
   "outputs": [
    {
     "name": "stdout",
     "output_type": "stream",
     "text": [
      "46\n",
      "网格搜索-最佳度量值: 0.7608695652173914\n",
      "网格搜索-最佳参数： {'C': 100, 'kernel': 'linear'}\n",
      "网格搜索-最佳模型： SVC(C=100, cache_size=200, class_weight=None, coef0=0.0,\n",
      "    decision_function_shape='ovr', degree=3, gamma='auto_deprecated',\n",
      "    kernel='linear', max_iter=-1, probability=False, random_state=None,\n",
      "    shrinking=True, tol=0.001, verbose=False)\n"
     ]
    }
   ],
   "source": [
    "clf = SVC()\n",
    "tuned_parameters = [{'kernel': ['rbf'], 'gamma': [1e-3, 1e-4],\n",
    "                     'C': [1, 10, 100, 1000]},\n",
    "                    {'kernel': ['linear'], 'C': [1, 10, 100, 1000]}]\n",
    "grid = GridSearchCV(estimator=clf, \n",
    "                    param_grid=tuned_parameters, cv=5, scoring='accuracy')\n",
    "xx = []\n",
    "scaler = MinMaxScaler()\n",
    "for a,b,c,d,e,f,g in zip(x_con_duration_eve, x_con_freq_day, x_con_freq_eve, x_con_freq_nig,\n",
    "              x_activity_day, x_activity_eve ,x_indoor_nig,):\n",
    "    xx.append([a, b, c, d, e,f,g])\n",
    "print(len(xx))\n",
    "xx = scaler.fit_transform(xx)\n",
    "grid.fit(xx, y_pos_panas)\n",
    "print('网格搜索-最佳度量值:',grid.best_score_)  \n",
    "print('网格搜索-最佳参数：',grid.best_params_)  \n",
    "print('网格搜索-最佳模型：',grid.best_estimator_) \n"
   ]
  },
  {
   "cell_type": "code",
   "execution_count": 123,
   "metadata": {
    "pycharm": {
     "is_executing": false,
     "name": "#%%\n"
    }
   },
   "outputs": [
    {
     "name": "stdout",
     "output_type": "stream",
     "text": [
      "              precision    recall  f1-score   support\n",
      "\n",
      "           0       0.60      1.00      0.75         3\n",
      "           1       1.00      0.71      0.83         7\n",
      "\n",
      "    accuracy                           0.80        10\n",
      "   macro avg       0.80      0.86      0.79        10\n",
      "weighted avg       0.88      0.80      0.81        10\n",
      "\n"
     ]
    }
   ],
   "source": [
    "svc = SVC(C=100, kernel='linear')\n",
    "x, xt, y, yt = train_test_split(xx, y_pos_panas, test_size=0.2, random_state=6)\n",
    "svc.fit(x, y)\n",
    "yp = svc.predict(xt)\n",
    "print(classification_report(yt, yp))\n"
   ]
  },
  {
   "cell_type": "code",
   "execution_count": 124,
   "metadata": {
    "pycharm": {
     "is_executing": false,
     "name": "#%%\n"
    }
   },
   "outputs": [
    {
     "name": "stdout",
     "output_type": "stream",
     "text": [
      "20.065217391304348\n"
     ]
    }
   ],
   "source": [
    "c = 0\n",
    "for key in pre_studnet:\n",
    "    c += pre_neg_panas[key]\n",
    "c = c / len(pre_neg_panas)\n",
    "print(c)\n",
    "y_neg_panas = []\n",
    "for key in pre_studnet:\n",
    "    if pre_neg_panas[key] > c:\n",
    "        y_neg_panas.append(1)\n",
    "    else:\n",
    "        y_neg_panas.append(0)\n",
    "y_neg_panas = np.array(y_neg_panas)\n"
   ]
  },
  {
   "cell_type": "code",
   "execution_count": 129,
   "metadata": {
    "pycharm": {
     "is_executing": false,
     "name": "#%%\n"
    }
   },
   "outputs": [],
   "source": [
    "k_range = range(1, 31)\n",
    "weight_options = ['uniform', 'distance']\n",
    "param_grid = {'n_neighbors':k_range,'weights':weight_options}\n",
    "knn = KNeighborsClassifier()\n",
    "grid = GridSearchCV(estimator=knn, param_grid=param_grid, scoring='accuracy', cv=5)\n"
   ]
  },
  {
   "cell_type": "code",
   "execution_count": 131,
   "metadata": {
    "pycharm": {
     "is_executing": false,
     "name": "#%%\n"
    }
   },
   "outputs": [
    {
     "name": "stdout",
     "output_type": "stream",
     "text": [
      "网格搜索-最佳度量值: 0.7608695652173914\n",
      "网格搜索-最佳参数： {'n_neighbors': 3, 'weights': 'distance'}\n",
      "网格搜索-最佳模型： KNeighborsClassifier(algorithm='auto', leaf_size=30, metric='minkowski',\n",
      "                     metric_params=None, n_jobs=None, n_neighbors=3, p=2,\n",
      "                     weights='distance')\n"
     ]
    }
   ],
   "source": [
    "xx = []\n",
    "for a,b,c,d,e,f in zip(x_con_duration_day, x_con_freq_day, x_activity_nig,\n",
    "                       x_traveled_day, x_traveled_eve, x_indoor_eve):\n",
    "    xx.append([a, b, c, d, e, f])\n",
    "scaler = MinMaxScaler()\n",
    "xx = scaler.fit_transform(x)\n",
    "grid = GridSearchCV(estimator=knn, param_grid=param_grid, scoring='accuracy', cv=5)\n",
    "grid.fit(xx, y_neg_panas)\n",
    "print('网格搜索-最佳度量值:',grid.best_score_)  \n",
    "print('网格搜索-最佳参数：',grid.best_params_)  \n",
    "print('网格搜索-最佳模型：',grid.best_estimator_) \n"
   ]
  },
  {
   "cell_type": "code",
   "execution_count": 133,
   "metadata": {
    "pycharm": {
     "is_executing": false,
     "name": "#%%\n"
    }
   },
   "outputs": [
    {
     "name": "stdout",
     "output_type": "stream",
     "text": [
      "              precision    recall  f1-score   support\n",
      "\n",
      "           0       0.80      0.80      0.80         5\n",
      "           1       0.80      0.80      0.80         5\n",
      "\n",
      "    accuracy                           0.80        10\n",
      "   macro avg       0.80      0.80      0.80        10\n",
      "weighted avg       0.80      0.80      0.80        10\n",
      "\n"
     ]
    }
   ],
   "source": [
    "knn = KNeighborsClassifier(n_neighbors=3, weights='distance')\n",
    "x, xt, y, yt = train_test_split(xx, y_pos_panas, test_size=0.2, random_state=0)\n",
    "knn.fit(x, y)\n",
    "yp = knn.predict(xt)\n",
    "print(classification_report(yt, yp))\n"
   ]
  },
  {
   "cell_type": "code",
   "execution_count": 222,
   "metadata": {
    "pycharm": {
     "is_executing": false,
     "name": "#%%\n"
    }
   },
   "outputs": [
    {
     "name": "stdout",
     "output_type": "stream",
     "text": [
      "46\n",
      "网格搜索-最佳度量值: 0.717391304347826\n",
      "网格搜索-最佳参数： {'max_depth': 2, 'min_samples_leaf': 2, 'min_samples_split': 4}\n",
      "网格搜索-最佳模型： DecisionTreeClassifier(class_weight=None, criterion='gini', max_depth=2,\n",
      "                       max_features=None, max_leaf_nodes=None,\n",
      "                       min_impurity_decrease=0.0, min_impurity_split=None,\n",
      "                       min_samples_leaf=2, min_samples_split=4,\n",
      "                       min_weight_fraction_leaf=0.0, presort=False,\n",
      "                       random_state=None, splitter='best')\n"
     ]
    }
   ],
   "source": [
    "clf = DecisionTreeClassifier()\n",
    "paramaters = {'max_depth': [2, 4, 6, 8, 10], 'min_samples_leaf': [2, 4, 6, 8, 10], \n",
    "              'min_samples_split': [2, 4, 6, 8, 10]}\n",
    "grid = GridSearchCV(estimator=clf, param_grid=paramaters, scoring='accuracy', cv=5)\n",
    "xx = []\n",
    "for a,b,c,d,e,f in zip(x_con_duration_day, x_con_freq_day, x_activity_eve,\n",
    "                       x_traveled_day, x_traveled_eve, x_indoor_eve):\n",
    "    xx.append([a, b, c, d, e, f])\n",
    "print(len(xx))\n",
    "grid.fit(xx, y_neg_panas)\n",
    "print('网格搜索-最佳度量值:',grid.best_score_)  \n",
    "print('网格搜索-最佳参数：',grid.best_params_)  \n",
    "print('网格搜索-最佳模型：',grid.best_estimator_) \n"
   ]
  },
  {
   "cell_type": "code",
   "execution_count": 228,
   "metadata": {
    "pycharm": {
     "is_executing": false,
     "name": "#%%\n"
    }
   },
   "outputs": [
    {
     "name": "stdout",
     "output_type": "stream",
     "text": [
      "              precision    recall  f1-score   support\n",
      "\n",
      "           0       0.80      0.67      0.73         6\n",
      "           1       0.60      0.75      0.67         4\n",
      "\n",
      "    accuracy                           0.70        10\n",
      "   macro avg       0.70      0.71      0.70        10\n",
      "weighted avg       0.72      0.70      0.70        10\n",
      "\n"
     ]
    }
   ],
   "source": [
    "dt = DecisionTreeClassifier(max_depth=2, min_samples_split=2)\n",
    "x, xt, y, yt = train_test_split(xx, y_neg_panas, test_size=0.2, random_state=29)\n",
    "dt.fit(x, y)\n",
    "yp = dt.predict(xt)\n",
    "print(classification_report(yt, yp))\n"
   ]
  },
  {
   "cell_type": "code",
   "execution_count": 230,
   "metadata": {
    "pycharm": {
     "is_executing": false,
     "name": "#%%\n"
    }
   },
   "outputs": [
    {
     "name": "stdout",
     "output_type": "stream",
     "text": [
      "46\n",
      "网格搜索-最佳度量值: 0.6739130434782609\n",
      "网格搜索-最佳参数： {'C': 10, 'kernel': 'linear'}\n",
      "网格搜索-最佳模型： SVC(C=10, cache_size=200, class_weight=None, coef0=0.0,\n",
      "    decision_function_shape='ovr', degree=3, gamma='auto_deprecated',\n",
      "    kernel='linear', max_iter=-1, probability=False, random_state=None,\n",
      "    shrinking=True, tol=0.001, verbose=False)\n"
     ]
    }
   ],
   "source": [
    "clf = SVC()\n",
    "tuned_parameters = [{'kernel': ['rbf'], 'gamma': [1e-3, 1e-4],\n",
    "                     'C': [1, 10, 100, 1000]},\n",
    "                    {'kernel': ['linear'], 'C': [1, 10, 100, 1000]}]\n",
    "grid = GridSearchCV(estimator=clf, \n",
    "                    param_grid=tuned_parameters, cv=5, scoring='accuracy')\n",
    "xx = []\n",
    "scaler = MinMaxScaler()\n",
    "for a,b,c,d,e,f,g in zip(x_con_duration_day, x_con_duration_eve, x_con_duration_nig, x_con_freq_eve,\n",
    "                         x_traveled_day, x_traveled_eve, x_indoor_nig):\n",
    "    xx.append([a, b, c, d, e,f,g])\n",
    "print(len(xx))\n",
    "xx = scaler.fit_transform(xx)\n",
    "grid.fit(xx, y_neg_panas)\n",
    "print('网格搜索-最佳度量值:',grid.best_score_)  \n",
    "print('网格搜索-最佳参数：',grid.best_params_)  \n",
    "print('网格搜索-最佳模型：',grid.best_estimator_) \n"
   ]
  },
  {
   "cell_type": "code",
   "execution_count": 237,
   "metadata": {
    "pycharm": {
     "is_executing": false,
     "name": "#%%\n"
    }
   },
   "outputs": [
    {
     "name": "stdout",
     "output_type": "stream",
     "text": [
      "              precision    recall  f1-score   support\n",
      "\n",
      "           0       0.70      1.00      0.82         7\n",
      "           1       0.00      0.00      0.00         3\n",
      "\n",
      "    accuracy                           0.70        10\n",
      "   macro avg       0.35      0.50      0.41        10\n",
      "weighted avg       0.49      0.70      0.58        10\n",
      "\n"
     ]
    }
   ],
   "source": [
    "svc = SVC(C=10, kernel='linear')\n",
    "x, xt, y, yt = train_test_split(xx, y_neg_panas, test_size=0.2, random_state=7)\n",
    "svc.fit(x, y)\n",
    "yp = svc.predict(xt)\n",
    "print(classification_report(yt, yp))\n"
   ]
  },
  {
   "cell_type": "code",
   "execution_count": null,
   "metadata": {
    "pycharm": {
     "name": "#%%\n"
    }
   },
   "outputs": [],
   "source": [
    "\n",
    "\n"
   ]
  }
 ],
 "metadata": {
  "kernelspec": {
   "display_name": "Python 3",
   "language": "python",
   "name": "python3"
  },
  "language_info": {
   "codemirror_mode": {
    "name": "ipython",
    "version": 3
   },
   "file_extension": ".py",
   "mimetype": "text/x-python",
   "name": "python",
   "nbconvert_exporter": "python",
   "pygments_lexer": "ipython3",
   "version": "3.7.3"
  },
  "pycharm": {
   "stem_cell": {
    "cell_type": "raw",
    "metadata": {
     "collapsed": false
    },
    "source": []
   }
  }
 },
 "nbformat": 4,
 "nbformat_minor": 1
}
