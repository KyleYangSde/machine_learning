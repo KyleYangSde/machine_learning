{
 "cells": [
  {
   "cell_type": "code",
   "execution_count": 1,
   "metadata": {},
   "outputs": [
    {
     "ename": "ModuleNotFoundError",
     "evalue": "No module named 'project'",
     "output_type": "error",
     "traceback": [
      "\u001b[1;31m---------------------------------------------------------------------------\u001b[0m",
      "\u001b[1;31mModuleNotFoundError\u001b[0m                       Traceback (most recent call last)",
      "\u001b[1;32m<ipython-input-1-38dc7f5f06bd>\u001b[0m in \u001b[0;36m<module>\u001b[1;34m\u001b[0m\n\u001b[1;32m----> 1\u001b[1;33m \u001b[1;32mfrom\u001b[0m \u001b[0mproject\u001b[0m\u001b[1;33m.\u001b[0m\u001b[0mdataset\u001b[0m \u001b[1;32mimport\u001b[0m \u001b[0mproject_data\u001b[0m\u001b[1;33m\u001b[0m\u001b[1;33m\u001b[0m\u001b[0m\n\u001b[0m\u001b[0;32m      2\u001b[0m \u001b[1;32mimport\u001b[0m \u001b[0mos\u001b[0m\u001b[1;33m\u001b[0m\u001b[1;33m\u001b[0m\u001b[0m\n\u001b[0;32m      3\u001b[0m \u001b[1;32mimport\u001b[0m \u001b[0mnumpy\u001b[0m \u001b[1;32mas\u001b[0m \u001b[0mnp\u001b[0m\u001b[1;33m\u001b[0m\u001b[1;33m\u001b[0m\u001b[0m\n",
      "\u001b[1;31mModuleNotFoundError\u001b[0m: No module named 'project'"
     ]
    }
   ],
   "source": [
    "from project.dataset import project_data\n",
    "import os\n",
    "import numpy as np\n",
    "from collections import defaultdict\n",
    "import datetime\n",
    "import pytz\n",
    "import pandas as pd"
   ]
  },
  {
   "cell_type": "code",
   "execution_count": 0,
   "metadata": {},
   "outputs": [],
   "source": [
    "root_path = 'C:\\Users\\kyrie\\Desktop\\comp9417\\project\\StudentLife_Dataset'\n",
    "#root_path = os.path.join(os.path.dirname(__file__), 'StudentLife_Dataset')\n",
    "data = project_data(root_path=root_path)\n"
   ]
  },
  {
   "cell_type": "code",
   "execution_count": 0,
   "metadata": {},
   "outputs": [],
   "source": [
    "stud_id = data.pre_student\n",
    "flour = data.FlourishingScale()\n",
    "panas_pos, panas_neg = data.PANAS()\n"
   ]
  },
  {
   "cell_type": "code",
   "execution_count": 0,
   "metadata": {},
   "outputs": [],
   "source": [
    "counter = 0\n",
    "for key in flour:\n",
    "    counter += flour[key]\n",
    "mean_flour = counter / len(flour)\n"
   ]
  },
  {
   "cell_type": "code",
   "execution_count": 0,
   "metadata": {},
   "outputs": [],
   "source": [
    "counter = 0\n",
    "for key in panas_pos:\n",
    "    counter += panas_pos[key]\n",
    "mean_panas_pos = counter / len(panas_pos)\n"
   ]
  },
  {
   "cell_type": "code",
   "execution_count": 0,
   "metadata": {},
   "outputs": [],
   "source": [
    "counter = 0\n",
    "for key in panas_neg:\n",
    "    counter += panas_neg[key]\n",
    "mean_panas_neg = counter / len(panas_neg)\n"
   ]
  },
  {
   "cell_type": "code",
   "execution_count": 0,
   "metadata": {},
   "outputs": [],
   "source": [
    "y_flour, y_panas_pos, y_panas_neg = [], [], []\n",
    "for s in stud_id:\n",
    "    if flour[s] > mean_flour:\n",
    "        y_flour.append(1)\n",
    "    else:\n",
    "        y_flour.append(0)\n",
    "    if panas_pos[s] > mean_panas_pos:\n",
    "        y_panas_pos.append(1)\n",
    "    else:\n",
    "        y_panas_pos.append(0)\n",
    "    if panas_neg[s] > mean_panas_neg:\n",
    "        y_panas_neg.append(1)\n",
    "    else:\n",
    "        y_panas_neg.append(0)\n",
    "y_flour = np.array(y_flour)\n",
    "y_panas_pos = np.array(y_panas_pos)\n",
    "y_panas_neg = np.array(y_panas_neg)\n",
    "    "
   ]
  },
  {
   "cell_type": "code",
   "execution_count": 0,
   "metadata": {},
   "outputs": [],
   "source": [
    "conv_dura_day, conv_dura_eve, conv_dura_nig = data.conversation_dura()\n",
    "conv_freq_day, conv_freq_eve, conv_freq_nig = data.conversation_freq()\n",
    "co_location = data.co_location()\n",
    "activity_day, activity_eve, activity_nig = data.activity()\n",
    "distance_day, distance_eve, distance_nig = data.traveled_distance()\n",
    "indoor_mobility_day, indoor_mobility_eve, indoor_mobility_nig = data.indoor_mobility()\n"
   ]
  },
  {
   "cell_type": "code",
   "execution_count": 0,
   "metadata": {},
   "outputs": [],
   "source": [
    "#sleep_duration = data.sleep_duration()\n"
   ]
  },
  {
   "cell_type": "code",
   "execution_count": 0,
   "metadata": {},
   "outputs": [],
   "source": [
    "# conversation duration (pre) 0.294 0.066\n",
    "# conversation duration during evening (pre) 0.362 0.022\n",
    "# number of co-locations (post) 0.324 0.050\n",
    "x_flour = []\n",
    "for s in stud_id:\n",
    "    temp = []\n",
    "    temp.append(conv_dura_day[s] + conv_dura_eve[s] + conv_dura_nig[s])\n",
    "    temp.append(conv_dura_eve[s])\n",
    "    temp.append(co_location[s])\n",
    "    x_flour.append(temp)\n",
    "x_flour = np.array(x_flour)\n"
   ]
  },
  {
   "cell_type": "code",
   "execution_count": 0,
   "metadata": {},
   "outputs": [],
   "source": [
    "# sleep duration (pre) -0.360 0.025\n",
    "# conversation frequency during day (pre) -0.403 0.010\n",
    "# conversation frequency during evening (post) -0.345 0.034\n",
    "# conversation duration during day (post) -0.328 0.044\n",
    "# number of co-locations (post) -0.362 0.025\n",
    "# activity duration for day (post) -0.326 0.049\n",
    "# activity duration for evening (post) -0.464 0.004\n",
    "# traveled distance (post) -0.338 0.044\n",
    "# traveled distance for day (post) -0.336 0.042\n",
    "# indoor mobility for day (post) -0.332 0.045\n",
    "x_panas = []\n",
    "for s in stud_id:\n",
    "    temp = []\n",
    "    #temp.append(sleep_duration[s])\n",
    "    temp.append(conv_freq_day[s])\n",
    "    temp.append(conv_freq_eve[s])\n",
    "    temp.append(conv_dura_day[s])\n",
    "    temp.append(conv_dura_eve[s])\n",
    "    temp.append(co_location[s])\n",
    "    temp.append(activity_day[s])\n",
    "    temp.append(activity_eve[s])\n",
    "    temp.append(distance_day[s] + distance_eve[s] + distance_nig[s])\n",
    "    temp.append(distance_day[s])\n",
    "    temp.append(indoor_mobility_day[s])\n",
    "    x_panas.append(temp)\n",
    "x_panas = np.array(x_panas)\n"
   ]
  },
  {
   "cell_type": "code",
   "execution_count": 0,
   "metadata": {},
   "outputs": [],
   "source": [
    "from sklearn.preprocessing import MinMaxScaler\n",
    "from sklearn.neighbors import KNeighborsClassifier\n",
    "from sklearn.model_selection import GridSearchCV\n",
    "import matplotlib.pyplot as plt\n"
   ]
  },
  {
   "cell_type": "code",
   "execution_count": 0,
   "metadata": {},
   "outputs": [],
   "source": [
    "print(x_flour.shape)\n",
    "print(x_panas.shape)\n",
    "print(y_flour.shape)\n",
    "print(y_panas_pos.shape)\n",
    "print(y_panas_neg.shape)\n",
    "scaler = MinMaxScaler()\n",
    "x_flour_scaled = scaler.fit_transform(x_flour)\n",
    "x_panas_scaled = scaler.fit_transform(x_panas)\n"
   ]
  },
  {
   "cell_type": "code",
   "execution_count": 0,
   "metadata": {},
   "outputs": [],
   "source": [
    "k_range = range(1, 31)\n",
    "weight_options = ['uniform', 'distance']\n",
    "param_grid = {'n_neighbors':k_range,'weights':weight_options}\n",
    "knn = KNeighborsClassifier(n_neighbors=1)\n",
    "grid = GridSearchCV(estimator=knn, param_grid=param_grid, scoring='accuracy', cv=10)\n"
   ]
  },
  {
   "cell_type": "code",
   "execution_count": 0,
   "metadata": {},
   "outputs": [],
   "source": [
    "grid.fit(x_flour_scaled, y_flour)\n",
    "# print('网格搜索-度量记录：',grid.cv_results_)  \n",
    "print('网格搜索-最佳度量值:',grid.best_score_)  \n",
    "print('网格搜索-最佳参数：',grid.best_params_)  \n",
    "print('网格搜索-最佳模型：',grid.best_estimator_) \n"
   ]
  },
  {
   "cell_type": "code",
   "execution_count": 0,
   "metadata": {},
   "outputs": [],
   "source": [
    "grid.fit(x_panas_scaled, y_panas_pos)\n",
    "# print('网格搜索-度量记录：',grid.cv_results_)  \n",
    "print('网格搜索-最佳度量值:',grid.best_score_)  \n",
    "print('网格搜索-最佳参数：',grid.best_params_)  \n",
    "print('网格搜索-最佳模型：',grid.best_estimator_) \n"
   ]
  },
  {
   "cell_type": "code",
   "execution_count": 0,
   "metadata": {},
   "outputs": [],
   "source": [
    "grid.fit(x_panas_scaled, y_panas_neg)\n",
    "# print('网格搜索-度量记录：',grid.cv_results_)  \n",
    "print('网格搜索-最佳度量值:',grid.best_score_)  \n",
    "print('网格搜索-最佳参数：',grid.best_params_)  \n",
    "print('网格搜索-最佳模型：',grid.best_estimator_) \n",
    "\n"
   ]
  }
 ],
 "metadata": {
  "language_info": {
   "codemirror_mode": {
    "name": "ipython",
    "version": 2
   },
   "file_extension": ".py",
   "mimetype": "text/x-python",
   "name": "python",
   "nbconvert_exporter": "python",
   "pygments_lexer": "ipython2",
   "version": "2.7.6"
  },
  "kernelspec": {
   "name": "python3",
   "language": "python",
   "display_name": "Python 3"
  },
  "pycharm": {
   "stem_cell": {
    "cell_type": "raw",
    "source": [],
    "metadata": {
     "collapsed": false
    }
   }
  }
 },
 "nbformat": 4,
 "nbformat_minor": 0
}